{
 "cells": [
  {
   "cell_type": "code",
   "execution_count": null,
   "metadata": {},
   "outputs": [],
   "source": []
  },
  {
   "cell_type": "code",
   "execution_count": 3,
   "metadata": {},
   "outputs": [],
   "source": [
    "import numpy as np\n",
    "import pandas as pd\n",
    "import folium\n",
    "import h3.api.numpy_int as h3\n",
    "from folium.vector_layers import CircleMarker"
   ]
  },
  {
   "cell_type": "code",
   "execution_count": null,
   "metadata": {},
   "outputs": [],
   "source": []
  },
  {
   "cell_type": "code",
   "execution_count": 2,
   "metadata": {},
   "outputs": [],
   "source": [
    "def get_hexagon(h):\n",
    "    geo_lst = list(h3.h3_to_geo_boundary(h))\n",
    "    geo_lst.append(geo_lst[0])\n",
    "    return np.array(geo_lst)"
   ]
  },
  {
   "cell_type": "code",
   "execution_count": null,
   "metadata": {},
   "outputs": [],
   "source": []
  },
  {
   "cell_type": "code",
   "execution_count": 3,
   "metadata": {},
   "outputs": [],
   "source": [
    "center = [38.72533, -9.15]"
   ]
  },
  {
   "cell_type": "code",
   "execution_count": 4,
   "metadata": {},
   "outputs": [
    {
     "data": {
      "text/html": [
       "<div style=\"width:100%;\"><div style=\"position:relative;width:100%;height:0;padding-bottom:60%;\"><span style=\"color:#565656\">Make this Notebook Trusted to load map: File -> Trust Notebook</span><iframe src=\"about:blank\" style=\"position:absolute;width:100%;height:100%;left:0;top:0;border:none !important;\" data-html=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 onload=\"this.contentDocument.open();this.contentDocument.write(atob(this.getAttribute('data-html')));this.contentDocument.close();\" allowfullscreen webkitallowfullscreen mozallowfullscreen></iframe></div></div>"
      ],
      "text/plain": [
       "<folium.folium.Map at 0x7f8338bc53a0>"
      ]
     },
     "execution_count": 4,
     "metadata": {},
     "output_type": "execute_result"
    }
   ],
   "source": [
    "m = folium.Map(location=center, zoom_start=18)\n",
    "\n",
    "hh = h3.geo_to_h3(38.72533, -9.15, 11)\n",
    "ring = h3.k_ring(hh, 2)\n",
    "\n",
    "for r in ring:\n",
    "    hexagon = get_hexagon(r)\n",
    "    polygon = folium.vector_layers.Polygon(locations=hexagon)\n",
    "    polygon.add_to(m)\n",
    "m"
   ]
  },
  {
   "cell_type": "code",
   "execution_count": null,
   "metadata": {},
   "outputs": [],
   "source": []
  },
  {
   "cell_type": "markdown",
   "metadata": {},
   "source": [
    "## Sorted Search Demonstration"
   ]
  },
  {
   "cell_type": "code",
   "execution_count": 5,
   "metadata": {},
   "outputs": [],
   "source": [
    "data = np.array([7, 7, 2, 7, 7, 3, 3, 2, 3, 8, 8, 8, 2, 8, 8, 5, 6, 5, 6, 5, 6])\n",
    "idxs = np.argsort(data)\n",
    "\n",
    "keys = np.array([1, 2, 3])"
   ]
  },
  {
   "cell_type": "code",
   "execution_count": 7,
   "metadata": {},
   "outputs": [
    {
     "data": {
      "text/plain": [
       "array([0, 0, 3])"
      ]
     },
     "execution_count": 7,
     "metadata": {},
     "output_type": "execute_result"
    }
   ],
   "source": [
    "i0 = np.searchsorted(data, keys, side=\"left\", sorter=idxs)\n",
    "i0"
   ]
  },
  {
   "cell_type": "code",
   "execution_count": 8,
   "metadata": {},
   "outputs": [
    {
     "data": {
      "text/plain": [
       "array([0, 3, 6])"
      ]
     },
     "execution_count": 8,
     "metadata": {},
     "output_type": "execute_result"
    }
   ],
   "source": [
    "i1 = np.searchsorted(data, keys, side=\"right\", sorter=idxs)\n",
    "i1"
   ]
  },
  {
   "cell_type": "code",
   "execution_count": null,
   "metadata": {},
   "outputs": [],
   "source": []
  },
  {
   "cell_type": "code",
   "execution_count": 10,
   "metadata": {},
   "outputs": [
    {
     "data": {
      "text/plain": [
       "(array([2, 2, 2]), array([ 2,  7, 12]))"
      ]
     },
     "execution_count": 10,
     "metadata": {},
     "output_type": "execute_result"
    }
   ],
   "source": [
    "data[idxs[0:3]], idxs[0:3]"
   ]
  },
  {
   "cell_type": "code",
   "execution_count": 11,
   "metadata": {},
   "outputs": [
    {
     "data": {
      "text/plain": [
       "(array([3, 3, 3]), array([5, 6, 8]))"
      ]
     },
     "execution_count": 11,
     "metadata": {},
     "output_type": "execute_result"
    }
   ],
   "source": [
    "data[idxs[3:6]], idxs[3:6]"
   ]
  },
  {
   "cell_type": "code",
   "execution_count": null,
   "metadata": {},
   "outputs": [],
   "source": []
  },
  {
   "cell_type": "markdown",
   "metadata": {},
   "source": [
    "## Performance"
   ]
  },
  {
   "cell_type": "code",
   "execution_count": 15,
   "metadata": {},
   "outputs": [],
   "source": [
    "data_dict = {\n",
    "    \"init_geo\": [29.76275701, 28.861421639000003, \n",
    "                 29.021140319, 28.71507979, \n",
    "                 28.807593859, 29.268012094, \n",
    "                 28.818752568999997, 28.573495078, \n",
    "                 28.625998347000003, 29.172096508000003],\n",
    "    \"init_h3i\": [29.002119281999995, 31.501784377000007, \n",
    "                 29.913000368000006, 30.084877427000002, \n",
    "                 29.115711202, 29.365764047, \n",
    "                 29.375851799000003, 30.04566253, \n",
    "                 29.513744804999995, 30.07629952],\n",
    "    \"qrad_geo\": [14.455405539000004, 12.925163823999995, \n",
    "                 14.692950778999993, 16.122003127000006, \n",
    "                 18.081273656, 16.782265988000006, \n",
    "                 13.358665484999996, 14.337435540000001, \n",
    "                 16.600762007, 15.374777615],\n",
    "    \"qrad_h3i\": [5.463111709999993, 3.119011846999996, \n",
    "                 5.1980214820000015, 6.469879312000003, \n",
    "                 6.439164724000008, 6.789193827000005, \n",
    "                 4.794309327999997, 4.683093052000004, \n",
    "                 6.548858373999991, 6.293878848000006],\n",
    "    \"qknn_geo\": [7.1081926910000135, 6.342480156999997, \n",
    "                 7.460930053999988, 7.468806442999991, \n",
    "                 8.582897841000005, 8.199856435000001, \n",
    "                 6.301281680999992, 7.061586293000005, \n",
    "                 7.844416269000007, 7.850034356999998],\n",
    "    \"qknn_h3i\": [5.567441251999995, 3.4514994520000073, \n",
    "                 5.014784836000004, 6.786518560999994, \n",
    "                 6.629357628999998, 7.221533246999996, \n",
    "                 4.706059526000004, 4.923216506000003, \n",
    "                 6.839402250000006, 6.238044574999989]\n",
    "}"
   ]
  },
  {
   "cell_type": "code",
   "execution_count": 16,
   "metadata": {},
   "outputs": [],
   "source": [
    "perf_df = pd.DataFrame.from_dict(data_dict)"
   ]
  },
  {
   "cell_type": "code",
   "execution_count": 21,
   "metadata": {},
   "outputs": [],
   "source": [
    "geo_idx = perf_df.mean().index.str.endswith(\"geo\")\n",
    "h3i_idx = perf_df.mean().index.str.endswith(\"h3i\")"
   ]
  },
  {
   "cell_type": "code",
   "execution_count": 22,
   "metadata": {},
   "outputs": [
    {
     "data": {
      "text/plain": [
       "init_geo    28.962635\n",
       "qrad_geo    15.273070\n",
       "qknn_geo     7.422048\n",
       "dtype: float64"
      ]
     },
     "execution_count": 22,
     "metadata": {},
     "output_type": "execute_result"
    }
   ],
   "source": [
    "perf_df.mean()[geo_idx]"
   ]
  },
  {
   "cell_type": "code",
   "execution_count": 23,
   "metadata": {},
   "outputs": [
    {
     "data": {
      "text/plain": [
       "init_h3i    29.799482\n",
       "qrad_h3i     5.579852\n",
       "qknn_h3i     5.737786\n",
       "dtype: float64"
      ]
     },
     "execution_count": 23,
     "metadata": {},
     "output_type": "execute_result"
    }
   ],
   "source": [
    "perf_df.mean()[h3i_idx]"
   ]
  },
  {
   "cell_type": "code",
   "execution_count": 34,
   "metadata": {},
   "outputs": [],
   "source": [
    "mean_tbl = pd.DataFrame(data=[\n",
    "    perf_df.mean()[geo_idx].to_numpy(),\n",
    "    perf_df.mean()[h3i_idx].to_numpy()\n",
    "], columns=[\"Initialization\", \"Radius\", \"KNN\"], index=[\"TI\", \"H3\"])"
   ]
  },
  {
   "cell_type": "code",
   "execution_count": 35,
   "metadata": {},
   "outputs": [
    {
     "data": {
      "text/html": [
       "<div>\n",
       "<style scoped>\n",
       "    .dataframe tbody tr th:only-of-type {\n",
       "        vertical-align: middle;\n",
       "    }\n",
       "\n",
       "    .dataframe tbody tr th {\n",
       "        vertical-align: top;\n",
       "    }\n",
       "\n",
       "    .dataframe thead th {\n",
       "        text-align: right;\n",
       "    }\n",
       "</style>\n",
       "<table border=\"1\" class=\"dataframe\">\n",
       "  <thead>\n",
       "    <tr style=\"text-align: right;\">\n",
       "      <th></th>\n",
       "      <th>Initialization</th>\n",
       "      <th>Radius</th>\n",
       "      <th>KNN</th>\n",
       "    </tr>\n",
       "  </thead>\n",
       "  <tbody>\n",
       "    <tr>\n",
       "      <th>TI</th>\n",
       "      <td>28.962635</td>\n",
       "      <td>15.273070</td>\n",
       "      <td>7.422048</td>\n",
       "    </tr>\n",
       "    <tr>\n",
       "      <th>H3</th>\n",
       "      <td>29.799482</td>\n",
       "      <td>5.579852</td>\n",
       "      <td>5.737786</td>\n",
       "    </tr>\n",
       "  </tbody>\n",
       "</table>\n",
       "</div>"
      ],
      "text/plain": [
       "    Initialization     Radius       KNN\n",
       "TI       28.962635  15.273070  7.422048\n",
       "H3       29.799482   5.579852  5.737786"
      ]
     },
     "execution_count": 35,
     "metadata": {},
     "output_type": "execute_result"
    }
   ],
   "source": [
    "mean_tbl"
   ]
  },
  {
   "cell_type": "code",
   "execution_count": 36,
   "metadata": {},
   "outputs": [],
   "source": [
    "std_tbl = pd.DataFrame(data=[\n",
    "    perf_df.std()[geo_idx].to_numpy(),\n",
    "    perf_df.std()[h3i_idx].to_numpy()\n",
    "], columns=[\"Initialization\", \"Radius\", \"KNN\"], index=[\"TI\", \"H3\"])"
   ]
  },
  {
   "cell_type": "code",
   "execution_count": 38,
   "metadata": {},
   "outputs": [
    {
     "data": {
      "text/html": [
       "<div>\n",
       "<style scoped>\n",
       "    .dataframe tbody tr th:only-of-type {\n",
       "        vertical-align: middle;\n",
       "    }\n",
       "\n",
       "    .dataframe tbody tr th {\n",
       "        vertical-align: top;\n",
       "    }\n",
       "\n",
       "    .dataframe thead th {\n",
       "        text-align: right;\n",
       "    }\n",
       "</style>\n",
       "<table border=\"1\" class=\"dataframe\">\n",
       "  <thead>\n",
       "    <tr style=\"text-align: right;\">\n",
       "      <th></th>\n",
       "      <th>Initialization</th>\n",
       "      <th>Radius</th>\n",
       "      <th>KNN</th>\n",
       "    </tr>\n",
       "  </thead>\n",
       "  <tbody>\n",
       "    <tr>\n",
       "      <th>TI</th>\n",
       "      <td>0.359285</td>\n",
       "      <td>1.623289</td>\n",
       "      <td>0.742955</td>\n",
       "    </tr>\n",
       "    <tr>\n",
       "      <th>H3</th>\n",
       "      <td>0.721261</td>\n",
       "      <td>1.158461</td>\n",
       "      <td>1.204939</td>\n",
       "    </tr>\n",
       "  </tbody>\n",
       "</table>\n",
       "</div>"
      ],
      "text/plain": [
       "    Initialization    Radius       KNN\n",
       "TI        0.359285  1.623289  0.742955\n",
       "H3        0.721261  1.158461  1.204939"
      ]
     },
     "execution_count": 38,
     "metadata": {},
     "output_type": "execute_result"
    }
   ],
   "source": [
    "std_tbl"
   ]
  },
  {
   "cell_type": "code",
   "execution_count": null,
   "metadata": {},
   "outputs": [],
   "source": []
  }
 ],
 "metadata": {
  "kernelspec": {
   "display_name": "Python 3",
   "language": "python",
   "name": "python3"
  },
  "language_info": {
   "codemirror_mode": {
    "name": "ipython",
    "version": 3
   },
   "file_extension": ".py",
   "mimetype": "text/x-python",
   "name": "python",
   "nbconvert_exporter": "python",
   "pygments_lexer": "ipython3",
   "version": "3.8.2"
  }
 },
 "nbformat": 4,
 "nbformat_minor": 4
}
